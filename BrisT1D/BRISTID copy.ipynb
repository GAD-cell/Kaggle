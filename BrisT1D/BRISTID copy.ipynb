{
 "cells": [
  {
   "cell_type": "markdown",
   "metadata": {},
   "source": [
    "# Visualize Data"
   ]
  },
  {
   "cell_type": "code",
   "execution_count": 84,
   "metadata": {},
   "outputs": [
    {
     "name": "stdout",
     "output_type": "stream",
     "text": [
      "2.1.2\n"
     ]
    }
   ],
   "source": [
    "import pandas as pd \n",
    "import warnings\n",
    "import matplotlib.pyplot as plt \n",
    "from sklearn.model_selection import train_test_split\n",
    "from sklearn.metrics import root_mean_squared_error , mean_absolute_error\n",
    "import xgboost as xgb\n",
    "print (xgb.__version__)\n",
    "import numpy as np\n",
    "import seaborn as sns \n",
    "from sklearn.ensemble import RandomForestRegressor, AdaBoostRegressor\n",
    "import lightgbm as lgb\n",
    "warnings.filterwarnings('ignore')\n",
    "\n"
   ]
  },
  {
   "cell_type": "code",
   "execution_count": 85,
   "metadata": {},
   "outputs": [
    {
     "data": {
      "text/plain": [
       "((177024, 508), (3644, 507))"
      ]
     },
     "execution_count": 85,
     "metadata": {},
     "output_type": "execute_result"
    }
   ],
   "source": [
    "df=pd.read_csv(\"./data/train.csv\")\n",
    "df_test=pd.read_csv(\"./data/test.csv\")\n",
    "df.shape,df_test.shape"
   ]
  },
  {
   "cell_type": "markdown",
   "metadata": {},
   "source": [
    "# Feature Engineering"
   ]
  },
  {
   "cell_type": "markdown",
   "metadata": {},
   "source": [
    "### Keep only the hour instead of the time"
   ]
  },
  {
   "cell_type": "code",
   "execution_count": 86,
   "metadata": {},
   "outputs": [],
   "source": [
    "\n",
    "time=df[\"time\"]=[int(df[\"time\"][i][:2])+int(df[\"time\"][i][3:5])/60 for i in range(len(df[\"time\"]))]\n",
    "time_test=df_test[\"time\"]=[int(df_test[\"time\"][i][:2])+int(df_test[\"time\"][i][3:5])/60 for i in range(len(df_test[\"time\"]))]"
   ]
  },
  {
   "cell_type": "code",
   "execution_count": 87,
   "metadata": {},
   "outputs": [
    {
     "name": "stdout",
     "output_type": "stream",
     "text": [
      "               id p_num       time  bg-5:55  bg-5:50  bg-5:45    bg-5:40  \\\n",
      "0           p01_0   p01   6.166667      9.6      9.6      9.6   9.633333   \n",
      "1           p01_1   p01   6.416667      9.7      9.7      9.7   9.533333   \n",
      "2           p01_2   p01   6.666667      9.2      9.2      9.2   9.033333   \n",
      "3           p01_3   p01   6.916667      8.7      8.7      8.7   8.600000   \n",
      "4           p01_4   p01   7.166667      8.4      8.4      8.4   8.300000   \n",
      "...           ...   ...        ...      ...      ...      ...        ...   \n",
      "177019  p12_25294   p12  23.583333      8.8      9.1      9.2   9.400000   \n",
      "177020  p12_25295   p12  23.666667      9.1      9.2      9.4   9.800000   \n",
      "177021  p12_25296   p12  23.750000      9.2      9.4      9.8  10.200000   \n",
      "177022  p12_25297   p12  23.833333      9.4      9.8     10.2  10.400000   \n",
      "177023  p12_25298   p12  23.916667      9.8     10.2     10.4  10.300000   \n",
      "\n",
      "          bg-5:35  bg-5:30    bg-5:25  ...  activity-0:40  activity-0:35  \\\n",
      "0        9.666667      9.7   9.533333  ...            NaN            NaN   \n",
      "1        9.366667      9.2   9.033333  ...            NaN            NaN   \n",
      "2        8.866667      8.7   8.600000  ...            NaN            NaN   \n",
      "3        8.500000      8.4   8.300000  ...            NaN            NaN   \n",
      "4        8.200000      8.1   8.166667  ...            NaN            NaN   \n",
      "...           ...      ...        ...  ...            ...            ...   \n",
      "177019   9.800000     10.2  10.400000  ...            NaN            NaN   \n",
      "177020  10.200000     10.4  10.300000  ...            NaN            NaN   \n",
      "177021  10.400000     10.3  10.100000  ...            NaN            NaN   \n",
      "177022  10.300000     10.1  10.000000  ...            NaN            NaN   \n",
      "177023  10.100000     10.0   9.800000  ...            NaN            NaN   \n",
      "\n",
      "        activity-0:30  activity-0:25  activity-0:20  activity-0:15  \\\n",
      "0                 NaN            NaN            NaN            NaN   \n",
      "1                 NaN            NaN            NaN            NaN   \n",
      "2                 NaN            NaN            NaN            NaN   \n",
      "3                 NaN            NaN            NaN            NaN   \n",
      "4                 NaN            NaN            NaN            NaN   \n",
      "...               ...            ...            ...            ...   \n",
      "177019            NaN            NaN            NaN            NaN   \n",
      "177020            NaN            NaN            NaN            NaN   \n",
      "177021            NaN            NaN            NaN            NaN   \n",
      "177022            NaN            NaN            NaN            NaN   \n",
      "177023            NaN            NaN            NaN            NaN   \n",
      "\n",
      "        activity-0:10  activity-0:05  activity-0:00  bg+1:00  \n",
      "0                 NaN            NaN            NaN     13.4  \n",
      "1                 NaN            NaN            NaN     12.8  \n",
      "2                 NaN            NaN            NaN     15.5  \n",
      "3                 NaN            NaN            NaN     14.8  \n",
      "4                 NaN            NaN            NaN     12.7  \n",
      "...               ...            ...            ...      ...  \n",
      "177019            NaN            NaN            NaN     11.1  \n",
      "177020            NaN            NaN            NaN     10.9  \n",
      "177021            NaN            NaN            NaN     10.7  \n",
      "177022            NaN            NaN            NaN     10.5  \n",
      "177023            NaN            NaN            NaN     10.2  \n",
      "\n",
      "[177024 rows x 508 columns]\n"
     ]
    }
   ],
   "source": [
    "\n",
    "bg_col=[col for col in df.columns if col.startswith('bg-')]\n",
    "df[bg_col]=df[bg_col].interpolate(method='linear',axis=1)\n",
    "df[bg_col]=df[bg_col].fillna(method='bfill',axis=1)\n",
    "df_test[bg_col]=df_test[bg_col].fillna(method='ffill',axis=1)\n",
    "df_test[bg_col]=df_test[bg_col].fillna(method='bfill',axis=1)\n",
    "\n",
    "hr_col=[col  for col in df.columns if col.startswith('hr-')]\n",
    "df[hr_col]=df[hr_col].fillna(method='ffill',axis=1)\n",
    "df[hr_col]=df[hr_col].fillna(method='bfill',axis=1)\n",
    "df_test[hr_col]=df_test[hr_col].interpolate(method='linear',axis=1)\n",
    "df_test[hr_col]=df_test[hr_col].fillna(method='bfill',axis=1)\n",
    "\n",
    "inc_col=[col  for col in df.columns if col.startswith('insulin-')]\n",
    "df[inc_col]=df[inc_col].interpolate(method='linear',axis=1)\n",
    "df[inc_col]=df[inc_col].fillna(method='bfill',axis=1)\n",
    "df_test[inc_col]=df_test[inc_col].fillna(method='ffill',axis=1)\n",
    "df_test[inc_col]=df_test[inc_col].fillna(method='bfill',axis=1)\n",
    "\n",
    "\n",
    "print(df)"
   ]
  },
  {
   "cell_type": "markdown",
   "metadata": {},
   "source": [
    "### Cumulated insulin at 00:00"
   ]
  },
  {
   "cell_type": "code",
   "execution_count": 88,
   "metadata": {},
   "outputs": [],
   "source": [
    "insulin=df.filter(regex=\"insulin\")\n",
    "insulin_test=df_test.filter(regex=\"insulin\")"
   ]
  },
  {
   "cell_type": "code",
   "execution_count": 89,
   "metadata": {},
   "outputs": [
    {
     "name": "stdout",
     "output_type": "stream",
     "text": [
      "0          1.526658\n",
      "1          1.589647\n",
      "2          1.645409\n",
      "3          1.694081\n",
      "4          1.735919\n",
      "            ...    \n",
      "177019    18.599551\n",
      "177020    19.250397\n",
      "177021    19.425045\n",
      "177022    19.082213\n",
      "177023    18.753670\n",
      "Name: insulin-5:55, Length: 177024, dtype: float64\n"
     ]
    }
   ],
   "source": [
    "mu = .1\n",
    "target_x = 2\n",
    "target_value = 0.8\n",
    "sigma = np.sqrt(-(target_x - mu)**2 / (2 * np.log(target_value)))\n",
    "def gaussian(x):\n",
    "    return  np.exp(-((x - mu) ** 2) / (2 * sigma ** 2))\n",
    "value={}\n",
    "for col_name in insulin.columns:\n",
    "    if col_name != \"cumulated_insulin\":\n",
    "        x=int(col_name[8:9])+int(col_name[10:12])/60\n",
    "        value[col_name]=gaussian(x)\n",
    "\n",
    "cumulated_insulin=[0 for i in range(177024)]\n",
    "cumulated_insulin_test=[0 for i in range(3644)]\n",
    "for col_name in insulin.columns:\n",
    "    if col_name != \"cumulated_insulin\":\n",
    "        cumulated_insulin+=np.multiply(insulin[col_name],value[col_name])\n",
    "        cumulated_insulin_test+=np.multiply(insulin_test[col_name],value[col_name])   \n",
    "\n",
    "#df=df.drop(columns=df.filter(regex=\"insulin\"))\n",
    "df[\"cumulated_insulin\"]=cumulated_insulin\n",
    "df[\"cumulated_insulin\"].fillna(-1,inplace=True)\n",
    "df_test[\"cumulated_insulin\"]=cumulated_insulin_test\n",
    "print(cumulated_insulin)"
   ]
  },
  {
   "cell_type": "markdown",
   "metadata": {},
   "source": [
    "### Cumulated carbs"
   ]
  },
  {
   "cell_type": "code",
   "execution_count": 90,
   "metadata": {},
   "outputs": [],
   "source": [
    "carbs=df.filter(regex=\"carbs\")\n",
    "carbs_test=df_test.filter(regex=\"carbs\")"
   ]
  },
  {
   "cell_type": "code",
   "execution_count": 91,
   "metadata": {},
   "outputs": [
    {
     "name": "stdout",
     "output_type": "stream",
     "text": [
      "0        NaN\n",
      "1        NaN\n",
      "2        NaN\n",
      "3        NaN\n",
      "4        NaN\n",
      "          ..\n",
      "177019   NaN\n",
      "177020   NaN\n",
      "177021   NaN\n",
      "177022   NaN\n",
      "177023   NaN\n",
      "Name: cumulated_carbs, Length: 177024, dtype: float64\n"
     ]
    }
   ],
   "source": [
    "mu = 3\n",
    "target_x = 1\n",
    "target_value = 0.01\n",
    "sigma = np.sqrt(-(target_x - mu)**2 / (2 * np.log(target_value)))\n",
    "def gaussian(x):\n",
    "    return  np.exp(-((x - mu) ** 2) / (2 * sigma ** 2))\n",
    "\n",
    "cumulated_carbs=[0 for i in range(177024)]\n",
    "cumulated_carbs_test=[0 for i in range(3644)]\n",
    "value={}\n",
    "for col_name in carbs.columns:\n",
    "    if col_name != \"cumulated_carbs\":\n",
    "        x=int(col_name[6:7])+int(col_name[8:10])/60\n",
    "        value[col_name]=gaussian(x)\n",
    "\n",
    "for col_name in carbs.columns:\n",
    "    if col_name != \"cumulated_carbs\":\n",
    "        cumulated_carbs+=np.multiply(carbs[col_name],value[col_name])\n",
    "        cumulated_carbs_test+=np.multiply(carbs_test[col_name],value[col_name])   \n",
    "\n",
    "#df=df.drop(columns=df.filter(regex=\"carbs\"))\n",
    "df[\"cumulated_carbs\"]=cumulated_carbs\n",
    "df_test[\"cumulated_carbs\"]=cumulated_carbs_test\n",
    "print(df[\"cumulated_carbs\"])"
   ]
  },
  {
   "cell_type": "markdown",
   "metadata": {},
   "source": [
    "### Activities processing"
   ]
  },
  {
   "cell_type": "code",
   "execution_count": 92,
   "metadata": {},
   "outputs": [],
   "source": [
    "data = {'activity': ['Indoor climbing','Run','Strength training','Swim','Bike','Dancing','Stairclimber','Spinning','Walking','HIIT','Outdoor Bike','Walk','Aerobic Workout','Tennis','Workout','Hike','Zumba','Sport','Yoga','Swimming','Weights','Running','CoreTraining','Cycling']}\n",
    "data = pd.DataFrame(data)\n",
    "unique_act={act:i+1 for i,act in enumerate(data['activity'].dropna().unique())}\n",
    "\n",
    "df[[act for act in df.filter(regex=\"activity\")]]=df.filter(regex=\"activity\").fillna(-1)\n",
    "df_test[[act for act in df.filter(regex=\"activity\")]]=df_test.filter(regex=\"activity\").fillna(-1)\n",
    "\n",
    "for value,key in enumerate(unique_act):\n",
    "    df=df.replace(key,value)\n",
    "    df_test=df_test.replace(key,value)\n"
   ]
  },
  {
   "cell_type": "markdown",
   "metadata": {},
   "source": [
    "### BG variance"
   ]
  },
  {
   "cell_type": "code",
   "execution_count": 93,
   "metadata": {},
   "outputs": [
    {
     "name": "stdout",
     "output_type": "stream",
     "text": [
      "0         0.498005\n",
      "1         1.137778\n",
      "2         1.200202\n",
      "3         0.646263\n",
      "4         0.245884\n",
      "            ...   \n",
      "177019    1.485152\n",
      "177020    1.426288\n",
      "177021    1.383864\n",
      "177022    1.307500\n",
      "177023    1.236061\n",
      "Length: 177024, dtype: float64\n"
     ]
    }
   ],
   "source": [
    "bg=df.filter(regex='bg')\n",
    "bg=bg.iloc[:,-14:-2]\n",
    "variance_bg = bg.var(axis=1)\n",
    "print(variance_bg)\n",
    "df[\"bg_variance\"]=variance_bg"
   ]
  },
  {
   "cell_type": "code",
   "execution_count": 94,
   "metadata": {},
   "outputs": [
    {
     "name": "stdout",
     "output_type": "stream",
     "text": [
      "Nombre de NaN restants par colonne :\n",
      "id             0\n",
      "p_num          0\n",
      "time           0\n",
      "bg-5:55        0\n",
      "bg-5:50        0\n",
      "              ..\n",
      "bg_variance    0\n",
      "bg_mean        0\n",
      "carbs_1H       0\n",
      "insulin_2H     0\n",
      "steps_1H       0\n",
      "Length: 515, dtype: int64\n"
     ]
    }
   ],
   "source": [
    "df=df.fillna(-1)\n",
    "\n",
    "carbs_1H=df.filter(regex='carbs')\n",
    "carbs_1H=carbs_1H.iloc[:,-14:-1]\n",
    "carbs_1H=carbs_1H.sum(axis=1)\n",
    "carbs_1H = (carbs_1H - carbs_1H.mean()) / carbs_1H.std()\n",
    "carbs_1H=np.log(np.add(carbs_1H,1))\n",
    "\n",
    "insulin_2H=df.filter(regex='insulin')\n",
    "insulin_2H=insulin_2H.iloc[:,-28:-1]\n",
    "insulin_2H=insulin_2H.sum(axis=1)\n",
    "insulin_2H = (insulin_2H - insulin_2H.mean()) / insulin_2H.std()\n",
    "insulin_2H=np.log(np.add(insulin_2H,1))\n",
    "insulin_2H.fillna(-1,inplace=True)\n",
    "\n",
    "steps_1H=df.filter(regex=\"steps\")\n",
    "steps_1H=steps_1H.iloc[:,-14:-1]\n",
    "steps_1H=steps_1H.sum(axis=1)\n",
    "steps_1H = (steps_1H - steps_1H.mean()) / steps_1H.std()\n",
    "steps_1H=np.log(np.add(steps_1H,1))\n",
    "\n",
    "bg_mean=df.filter(regex=\"bg\")\n",
    "bg_mean=bg_mean.iloc[:,-14:-1]\n",
    "bg_mean=bg_mean.mean(axis=1)\n",
    "df[\"bg_mean\"]=bg_mean\n",
    "\n",
    "\n",
    "df[\"carbs_1H\"]=carbs_1H\n",
    "df[\"insulin_2H\"]=insulin_2H\n",
    "df[\"steps_1H\"]=steps_1H\n",
    "\n",
    "print(\"Nombre de NaN restants par colonne :\")\n",
    "print(df.isna().sum())"
   ]
  },
  {
   "cell_type": "code",
   "execution_count": null,
   "metadata": {},
   "outputs": [
    {
     "data": {
      "image/png": "[encoded data removed]",
      "text/plain": [
       "<Figure size 2000x1600 with 2 Axes>"
      ]
     },
     "metadata": {},
     "output_type": "display_data"
    }
   ],
   "source": [
    "p=pd.DataFrame()\n",
    "#p=df\n",
    "#p=p.drop(columns=[\"id\",\"p_num\",\"time\"])\n",
    "#p=p.filter(regex=\"cumulated_insulin\")\n",
    "p[\"test\"]=cumulated_insulin_test\n",
    "p[\"bg+1:00\"]=df[\"bg+1:00\"]\n",
    "correlation=p.corr()\n",
    "\n",
    "plt.figure(figsize=(20, 16))  # Taille de la figure\n",
    "sns.heatmap(correlation, annot=True, cmap='coolwarm', vmin=-1, vmax=1)\n",
    "plt.title(\"Matrice de Corrélation\")\n",
    "plt.show()"
   ]
  },
  {
   "cell_type": "code",
   "execution_count": 96,
   "metadata": {},
   "outputs": [
    {
     "data": {
      "image/png": "[encoded data removed]",
      "text/plain": [
       "<Figure size 640x480 with 1 Axes>"
      ]
     },
     "metadata": {},
     "output_type": "display_data"
    }
   ],
   "source": [
    "x=df[\"cumulated_insulin\"]\n",
    "y=df[\"bg+1:00\"]\n",
    "plt.scatter(x, y, color='blue', marker='o',s=1)\n",
    "\n",
    "plt.xlabel('variance')\n",
    "plt.ylabel('bg+1')\n",
    "#plt.xlim(0, 1)\n",
    "\n",
    "plt.show()"
   ]
  },
  {
   "cell_type": "code",
   "execution_count": 65,
   "metadata": {},
   "outputs": [
    {
     "name": "stdout",
     "output_type": "stream",
     "text": [
      "Coefficients de corrélation pour X1 et X2 par rapport à Y : [ 7.04105624e-01  3.74723641e-03 -1.05204873e-04 -4.58777393e-02\n",
      "  1.58273786e-01 -8.39840491e-01  4.02815388e-02]\n",
      "Score de corrélation globale du modèle (R²) : 0.490167713239382\n"
     ]
    }
   ],
   "source": [
    "from sklearn.linear_model import LinearRegression\n",
    "\n",
    "# Définition des variables X et Y\n",
    "X = df[['bg-0:00', 'bg_variance','bg_mean','carbs_1H','steps_1H','insulin_2H','cumulated_insulin']]\n",
    "Y = df['bg+1:00']\n",
    "\n",
    "# Ajustement du modèle de régression multiple\n",
    "model = LinearRegression().fit(X, Y)\n",
    "\n",
    "# Affichage des coefficients de régression\n",
    "print(\"Coefficients de corrélation pour X1 et X2 par rapport à Y :\", model.coef_)\n",
    "print(\"Score de corrélation globale du modèle (R²) :\", model.score(X, Y))"
   ]
  },
  {
   "cell_type": "markdown",
   "metadata": {},
   "source": [
    "# XGBoost"
   ]
  },
  {
   "cell_type": "markdown",
   "metadata": {},
   "source": [
    "### Data Prep"
   ]
  },
  {
   "cell_type": "code",
   "execution_count": 66,
   "metadata": {},
   "outputs": [
    {
     "name": "stdout",
     "output_type": "stream",
     "text": [
      "               id p_num       time  bg-5:55  bg-5:50  bg-5:45    bg-5:40  \\\n",
      "0           p01_0   p01   6.166667      9.6      9.6      9.6   9.633333   \n",
      "1           p01_1   p01   6.416667      9.7      9.7      9.7   9.533333   \n",
      "2           p01_2   p01   6.666667      9.2      9.2      9.2   9.033333   \n",
      "3           p01_3   p01   6.916667      8.7      8.7      8.7   8.600000   \n",
      "4           p01_4   p01   7.166667      8.4      8.4      8.4   8.300000   \n",
      "...           ...   ...        ...      ...      ...      ...        ...   \n",
      "177019  p12_25294   p12  23.583333      8.8      9.1      9.2   9.400000   \n",
      "177020  p12_25295   p12  23.666667      9.1      9.2      9.4   9.800000   \n",
      "177021  p12_25296   p12  23.750000      9.2      9.4      9.8  10.200000   \n",
      "177022  p12_25297   p12  23.833333      9.4      9.8     10.2  10.400000   \n",
      "177023  p12_25298   p12  23.916667      9.8     10.2     10.4  10.300000   \n",
      "\n",
      "          bg-5:35  bg-5:30    bg-5:25  ...  activity-0:05  activity-0:00  \\\n",
      "0        9.666667      9.7   9.533333  ...             -1             -1   \n",
      "1        9.366667      9.2   9.033333  ...             -1             -1   \n",
      "2        8.866667      8.7   8.600000  ...             -1             -1   \n",
      "3        8.500000      8.4   8.300000  ...             -1             -1   \n",
      "4        8.200000      8.1   8.166667  ...             -1             -1   \n",
      "...           ...      ...        ...  ...            ...            ...   \n",
      "177019   9.800000     10.2  10.400000  ...             -1             -1   \n",
      "177020  10.200000     10.4  10.300000  ...             -1             -1   \n",
      "177021  10.400000     10.3  10.100000  ...             -1             -1   \n",
      "177022  10.300000     10.1  10.000000  ...             -1             -1   \n",
      "177023  10.100000     10.0   9.800000  ...             -1             -1   \n",
      "\n",
      "        bg+1:00  cumulated_insulin  cumulated_carbs  bg_variance    bg_mean  \\\n",
      "0          13.4           1.526658             -1.0     0.498005  16.453846   \n",
      "1          12.8           1.589647             -1.0     1.137778  15.761538   \n",
      "2          15.5           1.645409             -1.0     1.200202  15.207692   \n",
      "3          14.8           1.694081             -1.0     0.646263  14.523077   \n",
      "4          12.7           1.735919             -1.0     0.245884  13.915385   \n",
      "...         ...                ...              ...          ...        ...   \n",
      "177019     11.1          18.599551             -1.0     1.485152   8.415385   \n",
      "177020     10.9          19.250397             -1.0     1.426288   8.707692   \n",
      "177021     10.7          19.425045             -1.0     1.383864   9.015385   \n",
      "177022     10.5          19.082213             -1.0     1.307500   9.315385   \n",
      "177023     10.2          18.753670             -1.0     1.236061   9.607692   \n",
      "\n",
      "        carbs_1H  insulin_2H  steps_1H  \n",
      "0      -0.414103   -0.282137 -0.658467  \n",
      "1      -0.414103   -0.282108 -0.658467  \n",
      "2      -0.414103   -0.289249 -0.658467  \n",
      "3      -0.414103   -0.296441 -0.658467  \n",
      "4      -0.414103   -0.303685 -0.658467  \n",
      "...          ...         ...       ...  \n",
      "177019 -0.414103    0.891974 -0.658467  \n",
      "177020 -0.414103    0.937725 -0.658467  \n",
      "177021 -0.414103    0.961076 -0.658467  \n",
      "177022 -0.414103    0.191418 -0.658467  \n",
      "177023 -0.414103    0.193640 -0.658467  \n",
      "\n",
      "[177024 rows x 515 columns]\n"
     ]
    }
   ],
   "source": [
    "df=df.fillna(-1)\n",
    "df_test=df_test.fillna(-1)\n",
    "print(df)\n",
    "df=df[['p_num','bg+1:00','id','bg-0:00', 'bg_variance','bg_mean','carbs_1H','steps_1H','insulin_2H','cumulated_insulin']]\n",
    "\n",
    "target=df[[\"p_num\",\"bg+1:00\"]]\n",
    "LoN=df[df[\"p_num\"]==\"p11\"]\n",
    "LoN_target=target[target[\"p_num\"]==\"p11\"]\n",
    "LoN_target=LoN_target.drop(columns=[\"p_num\"])\n",
    "LoN=LoN.drop(columns=[\"id\",\"p_num\",\"bg+1:00\",])\n",
    "LoN=LoN.drop(columns=df.filter(regex=\"activity\"))\n",
    "LoN=LoN.drop(columns=df.filter(regex=\"hr\"))\n",
    "LoN = LoN.sample(frac=1, random_state=42).reset_index(drop=True)\n",
    "\n",
    "target=target[target[\"p_num\"]!=\"p11\"]\n",
    "target=target.drop(columns=[\"p_num\"])\n",
    "df=df[df[\"p_num\"]!=\"p11\"]\n",
    "data=df.drop(columns=[\"id\",\"p_num\",\"bg+1:00\",])\n",
    "data=data.drop(columns=df.filter(regex=\"activity\"))\n",
    "data=data.drop(columns=df.filter(regex=\"hr\"))\n",
    "\n",
    "x_train,x_val,y_train,y_val=train_test_split(data,target,test_size=0.15  ,random_state=42)\n",
    "\n",
    "x_val,y_val = pd.concat([x_val, LoN], ignore_index=True),pd.concat([y_val, LoN_target], ignore_index=True)\n",
    "x_val,y_val=x_val.sample(frac=1, random_state=42).reset_index(drop=True),y_val.sample(frac=1, random_state=42).reset_index(drop=True)"
   ]
  },
  {
   "cell_type": "markdown",
   "metadata": {},
   "source": [
    "### Search best features"
   ]
  },
  {
   "cell_type": "code",
   "execution_count": 385,
   "metadata": {},
   "outputs": [
    {
     "name": "stdout",
     "output_type": "stream",
     "text": [
      "[0]\tvalidation_0-rmse:2.96403\n",
      "[1]\tvalidation_0-rmse:2.87346\n",
      "[2]\tvalidation_0-rmse:2.81468\n",
      "[3]\tvalidation_0-rmse:2.77000\n",
      "[4]\tvalidation_0-rmse:2.73758\n",
      "[5]\tvalidation_0-rmse:2.71620\n",
      "[6]\tvalidation_0-rmse:2.70436\n",
      "[7]\tvalidation_0-rmse:2.69838\n",
      "[8]\tvalidation_0-rmse:2.70061\n",
      "[9]\tvalidation_0-rmse:2.70190\n",
      "[10]\tvalidation_0-rmse:2.70516\n",
      "[11]\tvalidation_0-rmse:2.71115\n",
      "[12]\tvalidation_0-rmse:2.71901\n",
      "[13]\tvalidation_0-rmse:2.72923\n",
      "[14]\tvalidation_0-rmse:2.73833\n",
      "[15]\tvalidation_0-rmse:2.74561\n",
      "[16]\tvalidation_0-rmse:2.75513\n",
      "[17]\tvalidation_0-rmse:2.76398\n",
      "[18]\tvalidation_0-rmse:2.77210\n",
      "[19]\tvalidation_0-rmse:2.78195\n",
      "[20]\tvalidation_0-rmse:2.78959\n",
      "[21]\tvalidation_0-rmse:2.79706\n",
      "[22]\tvalidation_0-rmse:2.80535\n",
      "[23]\tvalidation_0-rmse:2.81285\n",
      "[24]\tvalidation_0-rmse:2.81904\n",
      "[25]\tvalidation_0-rmse:2.82866\n",
      "[26]\tvalidation_0-rmse:2.83410\n",
      "[27]\tvalidation_0-rmse:2.83955\n",
      "rmse: 1.766920155967948\n"
     ]
    }
   ],
   "source": [
    "xgb_model2 = xgb.XGBRegressor(\n",
    "    objective=\"reg:squarederror\",\n",
    "    n_estimators=1000,  \n",
    "    learning_rate=0.1,\n",
    "    max_depth=12,    \n",
    "    subsample=0.8,\n",
    "    colsample_bytree=0.8,\n",
    "    #eval_metric=root_mean_squared_error,\n",
    "    early_stopping_rounds=20,\n",
    "    )\n",
    "\n",
    "\n",
    "xgb_model2.fit(\n",
    "    x_train, y_train,\n",
    "    eval_set=[(x_val, y_val)],\n",
    "    verbose=True\n",
    ")\n",
    "\n",
    "\n",
    "y_pred = xgb_model2.predict(x_train)\n",
    "\n",
    "rmse=root_mean_squared_error(y_train, y_pred)\n",
    "\n",
    "print(\"rmse:\",rmse)"
   ]
  },
  {
   "cell_type": "code",
   "execution_count": 386,
   "metadata": {},
   "outputs": [
    {
     "name": "stdout",
     "output_type": "stream",
     "text": [
      "adaboost RMSE: 2.8720\n",
      "XGBoost RMSE: 3.0391\n",
      "RandomForest RMSE: 2.9257\n",
      "Ensemble RMSE: 2.8417\n"
     ]
    }
   ],
   "source": [
    "models = {\n",
    "    'adaboost': AdaBoostRegressor(n_estimators=20, random_state=42),\n",
    "    'XGBoost': xgb.XGBRegressor(tree_method='hist', device='cuda', objective='reg:squarederror', n_estimators=30),\n",
    "    'RandomForest': RandomForestRegressor(n_estimators=20, random_state=42, n_jobs=-1),\n",
    "\n",
    "}\n",
    "\n",
    "rmse_dict = {}\n",
    "predictions = []\n",
    "\n",
    "for name, model in models.items():\n",
    "    model.fit(x_train, y_train)\n",
    "    y_pred = model.predict(x_val)\n",
    "    rmse = root_mean_squared_error(y_val, y_pred)\n",
    "    rmse_dict[name] = rmse\n",
    "    predictions.append(y_pred)\n",
    "    print(f\"{name} RMSE: {rmse:.4f}\")\n",
    "\n",
    "y_pred_ensemble = np.mean(predictions, axis=0)\n",
    "rmse_ensemble = root_mean_squared_error(y_val, y_pred_ensemble)\n",
    "print(f\"Ensemble RMSE: {rmse_ensemble:.4f}\")"
   ]
  },
  {
   "cell_type": "code",
   "execution_count": 387,
   "metadata": {},
   "outputs": [
    {
     "name": "stdout",
     "output_type": "stream",
     "text": [
      "rmse: 2.6983845941455464\n"
     ]
    }
   ],
   "source": [
    "y_pred_val=xgb_model2.predict(x_val)\n",
    "rmse=root_mean_squared_error(y_val, y_pred_val)\n",
    "print(\"rmse:\",rmse)"
   ]
  },
  {
   "cell_type": "markdown",
   "metadata": {},
   "source": [
    "# Submission CSV"
   ]
  },
  {
   "cell_type": "code",
   "execution_count": 1221,
   "metadata": {},
   "outputs": [
    {
     "name": "stdout",
     "output_type": "stream",
     "text": [
      "           time  bg-5:55  bg-5:50  bg-5:45  bg-5:40  bg-5:35  bg-5:30  \\\n",
      "0      6.750000      9.2      9.2      9.2      9.2     10.2     10.2   \n",
      "1     11.416667      9.9      9.9      9.9      9.9      9.9      9.4   \n",
      "2     14.750000      5.5      5.5      5.5      5.5      5.5      5.5   \n",
      "3      4.500000      3.4      3.4      3.4      3.4      3.9      3.9   \n",
      "4      4.333333      8.3      8.3      8.3      8.3      8.3     10.0   \n",
      "...         ...      ...      ...      ...      ...      ...      ...   \n",
      "3639   6.666667      7.3      7.3      7.1      6.7      6.8      6.8   \n",
      "3640  12.500000      6.0      6.2      6.2      6.2      5.8      5.5   \n",
      "3641   3.750000     12.4     12.5     12.7     13.1     13.2     13.3   \n",
      "3642   6.166667      8.3      8.3      8.2      8.2      7.8      7.4   \n",
      "3643   3.166667      9.9     10.1     10.0      9.9     10.0      9.7   \n",
      "\n",
      "      bg-5:25  bg-5:20  bg-5:15  ...  activity-0:35  activity-0:30  \\\n",
      "0        10.2     10.3     10.3  ...             -1             -1   \n",
      "1         9.4      9.4      9.1  ...             -1             -1   \n",
      "2         5.5      5.2      5.2  ...             -1             -1   \n",
      "3         3.9      4.7      4.7  ...             -1             -1   \n",
      "4        10.0     10.0     12.2  ...             -1             -1   \n",
      "...       ...      ...      ...  ...            ...            ...   \n",
      "3639      6.9      6.9      6.8  ...             -1             -1   \n",
      "3640      5.7      5.8      5.9  ...             -1             -1   \n",
      "3641     13.0     12.9     12.8  ...             -1             -1   \n",
      "3642      6.9      6.9      7.2  ...             -1             -1   \n",
      "3643      9.7     10.0     10.3  ...             -1             -1   \n",
      "\n",
      "      activity-0:25  activity-0:20  activity-0:15  activity-0:10  \\\n",
      "0                -1             -1             -1             -1   \n",
      "1                -1             -1             -1             11   \n",
      "2                -1             -1             -1             -1   \n",
      "3                -1             -1             -1             -1   \n",
      "4                -1             -1             -1             -1   \n",
      "...             ...            ...            ...            ...   \n",
      "3639             -1             -1             -1             -1   \n",
      "3640             -1             -1             -1             -1   \n",
      "3641             -1             -1             -1             -1   \n",
      "3642             -1             -1             -1             -1   \n",
      "3643             -1             -1             -1             -1   \n",
      "\n",
      "      activity-0:05  activity-0:00  cumulated_insulin  cumulated_carbs  \n",
      "0                -1             -1           3.311541             -1.0  \n",
      "1                11             11           5.081895             -1.0  \n",
      "2                -1             -1           1.392338             -1.0  \n",
      "3                -1             -1           0.294734             -1.0  \n",
      "4                -1             -1           0.287823             -1.0  \n",
      "...             ...            ...                ...              ...  \n",
      "3639             -1             -1           2.032363             -1.0  \n",
      "3640             -1             -1           6.061999             -1.0  \n",
      "3641             -1             -1           4.051698             -1.0  \n",
      "3642             -1             -1           1.420836             -1.0  \n",
      "3643             -1             -1           2.269250             -1.0  \n",
      "\n",
      "[3644 rows x 507 columns]\n"
     ]
    }
   ],
   "source": [
    "data_test=df_test.drop(columns=[\"id\",\"p_num\"])\n",
    "print(data_test)\n",
    "#data_test=data_test.drop(columns=df.filter(regex=\"activity\"))\n",
    "\n",
    "#y_pred_test=xgb_model2.predict(data_test)\n"
   ]
  },
  {
   "cell_type": "code",
   "execution_count": 1223,
   "metadata": {},
   "outputs": [],
   "source": [
    "y_pred_submission_xgb = models['XGBoost'].predict(data_test)\n",
    "y_pred_submission_rf = models['RandomForest'].predict(data_test)\n",
    "y_pred_submission_ab = models['adaboost'].predict(data_test)\n",
    "y_pred_submission = (y_pred_submission_xgb + y_pred_submission_rf + y_pred_submission_ab) / 3"
   ]
  },
  {
   "cell_type": "code",
   "execution_count": 1224,
   "metadata": {},
   "outputs": [
    {
     "name": "stdout",
     "output_type": "stream",
     "text": [
      "(3644, 2)\n"
     ]
    }
   ],
   "source": [
    "#results={\"id\":df_test[\"id\"],\"bg+1:00\":y_pred_test}\n",
    "results={\"id\":df_test[\"id\"],\"bg+1:00\":y_pred_submission_xgb}\n",
    "submission=pd.DataFrame(results)\n",
    "print(submission.shape)\n",
    "submission.to_csv('submission.csv', index=False, encoding='utf-8')"
   ]
  }
 ],
 "metadata": {
  "kernelspec": {
   "display_name": ".venv",
   "language": "python",
   "name": "python3"
  },
  "language_info": {
   "codemirror_mode": {
    "name": "ipython",
    "version": 3
   },
   "file_extension": ".py",
   "mimetype": "text/x-python",
   "name": "python",
   "nbconvert_exporter": "python",
   "pygments_lexer": "ipython3",
   "version": "3.10.10"
  }
 },
 "nbformat": 4,
 "nbformat_minor": 2
}
